{
  "nbformat": 4,
  "nbformat_minor": 0,
  "metadata": {
    "accelerator": "GPU",
    "colab": {
      "name": "Untitled2.ipynb",
      "provenance": [],
      "toc_visible": true,
      "authorship_tag": "ABX9TyOqAG6c3bcjT9byElGWcyDS",
      "include_colab_link": true
    },
    "kernelspec": {
      "display_name": "Python 3",
      "name": "python3"
    }
  },
  "cells": [
    {
      "cell_type": "markdown",
      "metadata": {
        "id": "view-in-github",
        "colab_type": "text"
      },
      "source": [
        "<a href=\"https://colab.research.google.com/github/rlysell/ImageClassification/blob/master/Untitled2.ipynb\" target=\"_parent\"><img src=\"https://colab.research.google.com/assets/colab-badge.svg\" alt=\"Open In Colab\"/></a>"
      ]
    },
    {
      "cell_type": "code",
      "metadata": {
        "colab": {
          "base_uri": "https://localhost:8080/"
        },
        "id": "-neR8VIaEvLb",
        "outputId": "3958f95d-6849-41fc-9f1c-59506774b659"
      },
      "source": [
        "import tensorflow as tf\r\n",
        "from tensorflow import keras\r\n",
        "import numpy as np\r\n",
        "import matplotlib.pyplot as plt\r\n",
        "from tensorflow.python.keras.layers.convolutional import Conv2D\r\n",
        "from tensorflow.python.keras.layers.core import Dense, Dropout, Flatten\r\n",
        "from tensorflow.python.keras.layers.pooling import MaxPool2D\r\n",
        "\r\n",
        "data = keras.datasets.cifar10\r\n",
        "\r\n",
        "EPOCHS = 100\r\n",
        "BATCH_SIZE = 32\r\n",
        "val_split = 0.2\r\n",
        "\r\n",
        "(train_images, train_labels), (test_images, test_labels) = data.load_data()\r\n",
        "\r\n",
        "classes = ['Airplane', 'Car', 'Bird', 'Cat', 'Deer', 'Dog', 'Frog', 'Horse', 'Ship', 'Truck']\r\n",
        "\r\n",
        "train_images = train_images / 255.0\r\n",
        "test_images = test_images / 255.0\r\n",
        "train_images = train_images.reshape(train_images.shape[0], 32, 32, 3)\r\n",
        "test_images = test_images.reshape(test_images.shape[0], 32, 32, 3)\r\n",
        "\r\n",
        "loss_fn = keras.losses.SparseCategoricalCrossentropy(from_logits=True)\r\n",
        "optimizer = keras.optimizers.Adam(lr=0.001)\r\n",
        "callback = keras.callbacks.EarlyStopping(monitor='val_accuracy', patience=3, restore_best_weights=True)\r\n",
        "\r\n",
        "def def_model():\r\n",
        "    model = keras.Sequential([\r\n",
        "        Conv2D(64, (3, 3), input_shape=(\r\n",
        "            32, 32, 3), activation='relu'),\r\n",
        "        MaxPool2D((2, 2)),\r\n",
        "        Conv2D(128, (3, 3), activation='relu'),\r\n",
        "        MaxPool2D((2, 2)),\r\n",
        "        Conv2D(256, (3, 3), activation='relu'),\r\n",
        "        MaxPool2D((2, 2)),\r\n",
        "        Flatten(input_shape=()),\r\n",
        "        Dense(1024, activation='relu'),\r\n",
        "        Dense(512, activation='relu'),\r\n",
        "        Dropout(0.5),\r\n",
        "        Dense(256, activation='relu'),\r\n",
        "        Dense(128, activation='relu'),\r\n",
        "        Dense(64, activation='relu'),\r\n",
        "        Dense(10, activation='softmax')\r\n",
        "    ])\r\n",
        "    model.compile(optimizer=optimizer, loss=loss_fn, metrics=['accuracy'])\r\n",
        "    return model\r\n",
        "\r\n",
        "def train_model(model):\r\n",
        "    history = model.fit(train_images, train_labels, epochs=EPOCHS, validation_split=val_split, batch_size=BATCH_SIZE, callbacks=callback)\r\n",
        "    return history, model\r\n",
        "\r\n",
        "def load_model():\r\n",
        "    tf.saved_model.load('saved_image_model')\r\n",
        "\r\n",
        "def plot_model(history):\r\n",
        "    plt.figure(figsize=(32, 32))\r\n",
        "    plt.plot(history.history['accuracy'])\r\n",
        "\r\n",
        "model = def_model()\r\n",
        "try:\r\n",
        "    history, model = train_model(model)\r\n",
        "except:\r\n",
        "    print(\"An error occured\")\r\n",
        "try:\r\n",
        "    tf.saved_model.save(model, 'saved_image_model')\r\n",
        "except:\r\n",
        "    print('Unable to write to file')"
      ],
      "execution_count": 6,
      "outputs": [
        {
          "output_type": "stream",
          "text": [
            "Epoch 1/100\n",
            "1250/1250 [==============================] - 6s 5ms/step - loss: 1.9702 - accuracy: 0.2310 - val_loss: 1.4396 - val_accuracy: 0.4670\n",
            "Epoch 2/100\n",
            "1250/1250 [==============================] - 5s 4ms/step - loss: 1.3613 - accuracy: 0.5077 - val_loss: 1.2301 - val_accuracy: 0.5507\n",
            "Epoch 3/100\n",
            "1250/1250 [==============================] - 5s 4ms/step - loss: 1.1529 - accuracy: 0.5943 - val_loss: 1.0409 - val_accuracy: 0.6352\n",
            "Epoch 4/100\n",
            "1250/1250 [==============================] - 5s 4ms/step - loss: 1.0024 - accuracy: 0.6538 - val_loss: 0.9844 - val_accuracy: 0.6615\n",
            "Epoch 5/100\n",
            "1250/1250 [==============================] - 5s 4ms/step - loss: 0.9041 - accuracy: 0.6846 - val_loss: 0.9992 - val_accuracy: 0.6651\n",
            "Epoch 6/100\n",
            "1250/1250 [==============================] - 5s 4ms/step - loss: 0.7976 - accuracy: 0.7238 - val_loss: 1.0186 - val_accuracy: 0.6556\n",
            "Epoch 7/100\n",
            "1250/1250 [==============================] - 5s 4ms/step - loss: 0.7129 - accuracy: 0.7535 - val_loss: 0.9838 - val_accuracy: 0.6840\n",
            "Epoch 8/100\n",
            "1250/1250 [==============================] - 5s 4ms/step - loss: 0.6392 - accuracy: 0.7807 - val_loss: 0.9612 - val_accuracy: 0.6947\n",
            "Epoch 9/100\n",
            "1250/1250 [==============================] - 5s 4ms/step - loss: 0.5675 - accuracy: 0.8039 - val_loss: 0.9851 - val_accuracy: 0.6908\n",
            "Epoch 10/100\n",
            "1250/1250 [==============================] - 5s 4ms/step - loss: 0.4997 - accuracy: 0.8287 - val_loss: 1.0719 - val_accuracy: 0.6807\n",
            "Epoch 11/100\n",
            "1250/1250 [==============================] - 5s 4ms/step - loss: 0.4519 - accuracy: 0.8462 - val_loss: 1.1453 - val_accuracy: 0.6813\n",
            "INFO:tensorflow:Assets written to: saved_image_model/assets\n"
          ],
          "name": "stdout"
        }
      ]
    },
    {
      "cell_type": "code",
      "metadata": {
        "colab": {
          "base_uri": "https://localhost:8080/"
        },
        "id": "Gro4NDcQIQzQ",
        "outputId": "487f1a06-f77f-459f-cb73-8788d9e01703"
      },
      "source": [
        "test_loss, test_acc = model.evaluate(test_images, test_labels, verbose = 1)"
      ],
      "execution_count": 9,
      "outputs": [
        {
          "output_type": "stream",
          "text": [
            "313/313 [==============================] - 1s 3ms/step - loss: 0.9817 - accuracy: 0.6857\n"
          ],
          "name": "stdout"
        },
        {
          "output_type": "execute_result",
          "data": {
            "text/plain": [
              "0.9816929697990417"
            ]
          },
          "metadata": {
            "tags": []
          },
          "execution_count": 9
        }
      ]
    },
    {
      "cell_type": "code",
      "metadata": {
        "id": "-rcJ8Y3VIyKy"
      },
      "source": [
        "from google.colab import drive\n",
        "drive.mount('/content/drive')"
      ],
      "execution_count": null,
      "outputs": []
    }
  ]
}